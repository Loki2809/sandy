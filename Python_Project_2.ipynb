{
 "cells": [
  {
   "cell_type": "code",
   "execution_count": 9,
   "id": "f0ff4b95-2760-4764-9944-4dbb34161743",
   "metadata": {},
   "outputs": [
    {
     "name": "stdin",
     "output_type": "stream",
     "text": [
      "Enter your WRDS username [lokes]: loki2809\n",
      "Enter your password: ········\n"
     ]
    },
    {
     "name": "stdout",
     "output_type": "stream",
     "text": [
      "WRDS recommends setting up a .pgpass file.\n"
     ]
    },
    {
     "name": "stdin",
     "output_type": "stream",
     "text": [
      "Create .pgpass file now [y/n]?:  y\n"
     ]
    },
    {
     "name": "stdout",
     "output_type": "stream",
     "text": [
      "Created .pgpass file successfully.\n",
      "You can create this file yourself at any time with the create_pgpass_file() function.\n",
      "Loading library list...\n",
      "Done\n"
     ]
    }
   ],
   "source": [
    "import pandas as pd\n",
    "import wrds\n",
    "conn=wrds.Connection()"
   ]
  },
  {
   "cell_type": "code",
   "execution_count": 11,
   "id": "05303ae8-6109-43f1-9206-5eddaa54a066",
   "metadata": {},
   "outputs": [
    {
     "name": "stdout",
     "output_type": "stream",
     "text": [
      "C:\\Users\\lokes\n"
     ]
    }
   ],
   "source": [
    "cd"
   ]
  },
  {
   "cell_type": "code",
   "execution_count": 15,
   "id": "7a8438ac-8b5c-44d1-8c30-542e8753f19b",
   "metadata": {},
   "outputs": [
    {
     "name": "stdout",
     "output_type": "stream",
     "text": [
      "2024-11-10 20:38:56.239766\n"
     ]
    }
   ],
   "source": [
    "import datetime\n",
    "print (datetime.datetime.now())"
   ]
  },
  {
   "cell_type": "code",
   "execution_count": 19,
   "id": "965ea219-19de-4a59-8910-9189136ae547",
   "metadata": {},
   "outputs": [],
   "source": [
    "info_crsp=conn.get_table(library='crsp', table='stocknames', columns =['siccd', 'permno', 'ticker','comnam', 'cusip'])"
   ]
  },
  {
   "cell_type": "code",
   "execution_count": 21,
   "id": "8eee30cb-5012-4fb7-a0e4-ef82104c714a",
   "metadata": {},
   "outputs": [
    {
     "data": {
      "text/html": [
       "<div>\n",
       "<style scoped>\n",
       "    .dataframe tbody tr th:only-of-type {\n",
       "        vertical-align: middle;\n",
       "    }\n",
       "\n",
       "    .dataframe tbody tr th {\n",
       "        vertical-align: top;\n",
       "    }\n",
       "\n",
       "    .dataframe thead th {\n",
       "        text-align: right;\n",
       "    }\n",
       "</style>\n",
       "<table border=\"1\" class=\"dataframe\">\n",
       "  <thead>\n",
       "    <tr style=\"text-align: right;\">\n",
       "      <th></th>\n",
       "      <th>siccd</th>\n",
       "      <th>permno</th>\n",
       "      <th>ticker</th>\n",
       "      <th>comnam</th>\n",
       "      <th>cusip</th>\n",
       "    </tr>\n",
       "  </thead>\n",
       "  <tbody>\n",
       "    <tr>\n",
       "      <th>0</th>\n",
       "      <td>3990</td>\n",
       "      <td>10000</td>\n",
       "      <td>OMFGA</td>\n",
       "      <td>OPTIMUM MANUFACTURING INC</td>\n",
       "      <td>68391610</td>\n",
       "    </tr>\n",
       "    <tr>\n",
       "      <th>1</th>\n",
       "      <td>4920</td>\n",
       "      <td>10001</td>\n",
       "      <td>GFGC</td>\n",
       "      <td>GREAT FALLS GAS CO</td>\n",
       "      <td>36720410</td>\n",
       "    </tr>\n",
       "    <tr>\n",
       "      <th>2</th>\n",
       "      <td>4920</td>\n",
       "      <td>10001</td>\n",
       "      <td>EWST</td>\n",
       "      <td>ENERGY WEST INC</td>\n",
       "      <td>36720410</td>\n",
       "    </tr>\n",
       "    <tr>\n",
       "      <th>3</th>\n",
       "      <td>4920</td>\n",
       "      <td>10001</td>\n",
       "      <td>EWST</td>\n",
       "      <td>ENERGY WEST INC</td>\n",
       "      <td>36720410</td>\n",
       "    </tr>\n",
       "    <tr>\n",
       "      <th>4</th>\n",
       "      <td>4920</td>\n",
       "      <td>10001</td>\n",
       "      <td>EGAS</td>\n",
       "      <td>ENERGY INC</td>\n",
       "      <td>36720410</td>\n",
       "    </tr>\n",
       "  </tbody>\n",
       "</table>\n",
       "</div>"
      ],
      "text/plain": [
       "   siccd  permno ticker                     comnam     cusip\n",
       "0   3990   10000  OMFGA  OPTIMUM MANUFACTURING INC  68391610\n",
       "1   4920   10001   GFGC         GREAT FALLS GAS CO  36720410\n",
       "2   4920   10001   EWST            ENERGY WEST INC  36720410\n",
       "3   4920   10001   EWST            ENERGY WEST INC  36720410\n",
       "4   4920   10001   EGAS                 ENERGY INC  36720410"
      ]
     },
     "execution_count": 21,
     "metadata": {},
     "output_type": "execute_result"
    }
   ],
   "source": [
    "info_crsp.head()"
   ]
  },
  {
   "cell_type": "code",
   "execution_count": 23,
   "id": "2db6a03d-09bc-4ea9-a5db-50b8368e497e",
   "metadata": {},
   "outputs": [
    {
     "name": "stdout",
     "output_type": "stream",
     "text": [
      "<class 'pandas.core.frame.DataFrame'>\n",
      "RangeIndex: 80790 entries, 0 to 80789\n",
      "Data columns (total 5 columns):\n",
      " #   Column  Non-Null Count  Dtype \n",
      "---  ------  --------------  ----- \n",
      " 0   siccd   80790 non-null  int64 \n",
      " 1   permno  80790 non-null  int64 \n",
      " 2   ticker  75849 non-null  object\n",
      " 3   comnam  80790 non-null  object\n",
      " 4   cusip   80790 non-null  object\n",
      "dtypes: int64(2), object(3)\n",
      "memory usage: 3.1+ MB\n"
     ]
    }
   ],
   "source": [
    "info_crsp.info()"
   ]
  },
  {
   "cell_type": "code",
   "execution_count": null,
   "id": "47b473a4-38c6-406c-8ddf-17612ca60fdb",
   "metadata": {},
   "outputs": [],
   "source": []
  },
  {
   "cell_type": "code",
   "execution_count": 31,
   "id": "7af1083c-6fbb-4324-a012-a6976bcf624f",
   "metadata": {},
   "outputs": [
    {
     "data": {
      "text/plain": [
       "True     43014\n",
       "False    37776\n",
       "Name: count, dtype: int64"
      ]
     },
     "execution_count": 31,
     "metadata": {},
     "output_type": "execute_result"
    }
   ],
   "source": [
    "info_crsp.duplicated(['permno']).value_counts()"
   ]
  },
  {
   "cell_type": "code",
   "execution_count": 33,
   "id": "6eee7169-8f2a-40d6-8fec-ea830f383450",
   "metadata": {},
   "outputs": [],
   "source": [
    "info_crsp.sort_values(by=['permno'], inplace=True)"
   ]
  },
  {
   "cell_type": "code",
   "execution_count": 35,
   "id": "d4ebe76e-8457-4902-a7ba-2a69060b5af7",
   "metadata": {},
   "outputs": [
    {
     "data": {
      "text/html": [
       "<div>\n",
       "<style scoped>\n",
       "    .dataframe tbody tr th:only-of-type {\n",
       "        vertical-align: middle;\n",
       "    }\n",
       "\n",
       "    .dataframe tbody tr th {\n",
       "        vertical-align: top;\n",
       "    }\n",
       "\n",
       "    .dataframe thead th {\n",
       "        text-align: right;\n",
       "    }\n",
       "</style>\n",
       "<table border=\"1\" class=\"dataframe\">\n",
       "  <thead>\n",
       "    <tr style=\"text-align: right;\">\n",
       "      <th></th>\n",
       "      <th>siccd</th>\n",
       "      <th>permno</th>\n",
       "      <th>ticker</th>\n",
       "      <th>comnam</th>\n",
       "      <th>cusip</th>\n",
       "    </tr>\n",
       "  </thead>\n",
       "  <tbody>\n",
       "    <tr>\n",
       "      <th>0</th>\n",
       "      <td>3990</td>\n",
       "      <td>10000</td>\n",
       "      <td>OMFGA</td>\n",
       "      <td>OPTIMUM MANUFACTURING INC</td>\n",
       "      <td>68391610</td>\n",
       "    </tr>\n",
       "    <tr>\n",
       "      <th>1</th>\n",
       "      <td>4920</td>\n",
       "      <td>10001</td>\n",
       "      <td>GFGC</td>\n",
       "      <td>GREAT FALLS GAS CO</td>\n",
       "      <td>36720410</td>\n",
       "    </tr>\n",
       "    <tr>\n",
       "      <th>2</th>\n",
       "      <td>4920</td>\n",
       "      <td>10001</td>\n",
       "      <td>EWST</td>\n",
       "      <td>ENERGY WEST INC</td>\n",
       "      <td>36720410</td>\n",
       "    </tr>\n",
       "    <tr>\n",
       "      <th>3</th>\n",
       "      <td>4920</td>\n",
       "      <td>10001</td>\n",
       "      <td>EWST</td>\n",
       "      <td>ENERGY WEST INC</td>\n",
       "      <td>36720410</td>\n",
       "    </tr>\n",
       "    <tr>\n",
       "      <th>4</th>\n",
       "      <td>4920</td>\n",
       "      <td>10001</td>\n",
       "      <td>EGAS</td>\n",
       "      <td>ENERGY INC</td>\n",
       "      <td>36720410</td>\n",
       "    </tr>\n",
       "    <tr>\n",
       "      <th>...</th>\n",
       "      <td>...</td>\n",
       "      <td>...</td>\n",
       "      <td>...</td>\n",
       "      <td>...</td>\n",
       "      <td>...</td>\n",
       "    </tr>\n",
       "    <tr>\n",
       "      <th>80785</th>\n",
       "      <td>9999</td>\n",
       "      <td>93433</td>\n",
       "      <td>VLTC</td>\n",
       "      <td>VOLTARI CORP</td>\n",
       "      <td>92870X30</td>\n",
       "    </tr>\n",
       "    <tr>\n",
       "      <th>80786</th>\n",
       "      <td>9999</td>\n",
       "      <td>93434</td>\n",
       "      <td>SANW</td>\n",
       "      <td>S &amp; W SEED CO</td>\n",
       "      <td>78513510</td>\n",
       "    </tr>\n",
       "    <tr>\n",
       "      <th>80787</th>\n",
       "      <td>6163</td>\n",
       "      <td>93435</td>\n",
       "      <td>SCEI</td>\n",
       "      <td>SINO CLEAN ENERGY INC</td>\n",
       "      <td>82936G20</td>\n",
       "    </tr>\n",
       "    <tr>\n",
       "      <th>80788</th>\n",
       "      <td>9999</td>\n",
       "      <td>93436</td>\n",
       "      <td>TSLA</td>\n",
       "      <td>TESLA MOTORS INC</td>\n",
       "      <td>88160R10</td>\n",
       "    </tr>\n",
       "    <tr>\n",
       "      <th>80789</th>\n",
       "      <td>9999</td>\n",
       "      <td>93436</td>\n",
       "      <td>TSLA</td>\n",
       "      <td>TESLA INC</td>\n",
       "      <td>88160R10</td>\n",
       "    </tr>\n",
       "  </tbody>\n",
       "</table>\n",
       "<p>80790 rows × 5 columns</p>\n",
       "</div>"
      ],
      "text/plain": [
       "       siccd  permno ticker                     comnam     cusip\n",
       "0       3990   10000  OMFGA  OPTIMUM MANUFACTURING INC  68391610\n",
       "1       4920   10001   GFGC         GREAT FALLS GAS CO  36720410\n",
       "2       4920   10001   EWST            ENERGY WEST INC  36720410\n",
       "3       4920   10001   EWST            ENERGY WEST INC  36720410\n",
       "4       4920   10001   EGAS                 ENERGY INC  36720410\n",
       "...      ...     ...    ...                        ...       ...\n",
       "80785   9999   93433   VLTC               VOLTARI CORP  92870X30\n",
       "80786   9999   93434   SANW              S & W SEED CO  78513510\n",
       "80787   6163   93435   SCEI      SINO CLEAN ENERGY INC  82936G20\n",
       "80788   9999   93436   TSLA           TESLA MOTORS INC  88160R10\n",
       "80789   9999   93436   TSLA                  TESLA INC  88160R10\n",
       "\n",
       "[80790 rows x 5 columns]"
      ]
     },
     "execution_count": 35,
     "metadata": {},
     "output_type": "execute_result"
    }
   ],
   "source": [
    "info_crsp"
   ]
  },
  {
   "cell_type": "code",
   "execution_count": 39,
   "id": "f2a0938b-aeff-478f-b7a6-6947b2cade27",
   "metadata": {},
   "outputs": [
    {
     "data": {
      "text/plain": [
       "0        False\n",
       "1         True\n",
       "2         True\n",
       "3         True\n",
       "4         True\n",
       "         ...  \n",
       "80785    False\n",
       "80786    False\n",
       "80787    False\n",
       "80788     True\n",
       "80789    False\n",
       "Length: 80790, dtype: bool"
      ]
     },
     "execution_count": 39,
     "metadata": {},
     "output_type": "execute_result"
    }
   ],
   "source": [
    "info_crsp.duplicated('permno',keep='last')"
   ]
  },
  {
   "cell_type": "code",
   "execution_count": 41,
   "id": "a1135d3e-df68-4e71-a68e-ca58495668fe",
   "metadata": {},
   "outputs": [
    {
     "data": {
      "text/plain": [
       "0        False\n",
       "1        False\n",
       "2        False\n",
       "3         True\n",
       "4        False\n",
       "         ...  \n",
       "80785     True\n",
       "80786    False\n",
       "80787    False\n",
       "80788    False\n",
       "80789    False\n",
       "Length: 80790, dtype: bool"
      ]
     },
     "execution_count": 41,
     "metadata": {},
     "output_type": "execute_result"
    }
   ],
   "source": [
    "info_crsp.duplicated('permno',keep='last')\n",
    "info_crsp.duplicated()"
   ]
  },
  {
   "cell_type": "code",
   "execution_count": 43,
   "id": "39c691b3-1468-4f3e-b8d8-67c987103b77",
   "metadata": {},
   "outputs": [
    {
     "name": "stdout",
     "output_type": "stream",
     "text": [
      "<class 'pandas.core.frame.DataFrame'>\n",
      "Index: 80790 entries, 0 to 80789\n",
      "Data columns (total 5 columns):\n",
      " #   Column  Non-Null Count  Dtype \n",
      "---  ------  --------------  ----- \n",
      " 0   siccd   80790 non-null  int64 \n",
      " 1   permno  80790 non-null  int64 \n",
      " 2   ticker  75849 non-null  object\n",
      " 3   comnam  80790 non-null  object\n",
      " 4   cusip   80790 non-null  object\n",
      "dtypes: int64(2), object(3)\n",
      "memory usage: 3.7+ MB\n"
     ]
    }
   ],
   "source": [
    "info_crsp.info()"
   ]
  },
  {
   "cell_type": "code",
   "execution_count": 45,
   "id": "45064af2-97ec-4f04-9855-a680e42236c8",
   "metadata": {},
   "outputs": [
    {
     "data": {
      "text/plain": [
       "37776"
      ]
     },
     "execution_count": 45,
     "metadata": {},
     "output_type": "execute_result"
    }
   ],
   "source": [
    "unique_companies = info_crsp['permno'].nunique()\n",
    "unique_companies"
   ]
  },
  {
   "cell_type": "code",
   "execution_count": 47,
   "id": "a6d57a64-90b5-476d-b70c-f9d51608b40c",
   "metadata": {},
   "outputs": [],
   "source": [
    "subset=info_crsp[['permno']]"
   ]
  },
  {
   "cell_type": "code",
   "execution_count": 61,
   "id": "76d506b8-b174-4536-aea3-17e69d19264e",
   "metadata": {},
   "outputs": [
    {
     "name": "stderr",
     "output_type": "stream",
     "text": [
      "C:\\Users\\lokes\\AppData\\Local\\Temp\\ipykernel_26320\\2262615092.py:1: SettingWithCopyWarning: \n",
      "A value is trying to be set on a copy of a slice from a DataFrame.\n",
      "Try using .loc[row_indexer,col_indexer] = value instead\n",
      "\n",
      "See the caveats in the documentation: https://pandas.pydata.org/pandas-docs/stable/user_guide/indexing.html#returning-a-view-versus-a-copy\n",
      "  subset['eventdate'] = '2022-08-16'\n"
     ]
    }
   ],
   "source": [
    "subset['eventdate'] = '2022-08-16'"
   ]
  },
  {
   "cell_type": "code",
   "execution_count": 63,
   "id": "307e6549-395c-462b-bc87-21c1c39ed963",
   "metadata": {},
   "outputs": [
    {
     "data": {
      "text/html": [
       "<div>\n",
       "<style scoped>\n",
       "    .dataframe tbody tr th:only-of-type {\n",
       "        vertical-align: middle;\n",
       "    }\n",
       "\n",
       "    .dataframe tbody tr th {\n",
       "        vertical-align: top;\n",
       "    }\n",
       "\n",
       "    .dataframe thead th {\n",
       "        text-align: right;\n",
       "    }\n",
       "</style>\n",
       "<table border=\"1\" class=\"dataframe\">\n",
       "  <thead>\n",
       "    <tr style=\"text-align: right;\">\n",
       "      <th></th>\n",
       "      <th>permno</th>\n",
       "      <th>eventdate</th>\n",
       "    </tr>\n",
       "  </thead>\n",
       "  <tbody>\n",
       "    <tr>\n",
       "      <th>0</th>\n",
       "      <td>10000</td>\n",
       "      <td>2022-08-16</td>\n",
       "    </tr>\n",
       "  </tbody>\n",
       "</table>\n",
       "</div>"
      ],
      "text/plain": [
       "   permno   eventdate\n",
       "0   10000  2022-08-16"
      ]
     },
     "execution_count": 63,
     "metadata": {},
     "output_type": "execute_result"
    }
   ],
   "source": [
    "subset.head(1)"
   ]
  },
  {
   "cell_type": "code",
   "execution_count": 71,
   "id": "cc7ea366-863d-461e-850f-f7f579ef33c6",
   "metadata": {},
   "outputs": [],
   "source": [
    "loc=r'C:\\Users\\lokes\\Downloads'"
   ]
  },
  {
   "cell_type": "code",
   "execution_count": 73,
   "id": "9fd97cd4-1028-4a82-bc02-2d18842c59ad",
   "metadata": {},
   "outputs": [],
   "source": []
  },
  {
   "cell_type": "code",
   "execution_count": 79,
   "id": "1760c518-76e9-4f37-a39c-113b8fa06946",
   "metadata": {},
   "outputs": [],
   "source": [
    "fname=loc+'\\\\Python_Project_2'"
   ]
  },
  {
   "cell_type": "code",
   "execution_count": null,
   "id": "288a8ee0-31b6-4ba4-b976-2885ab4d3718",
   "metadata": {},
   "outputs": [],
   "source": []
  }
 ],
 "metadata": {
  "kernelspec": {
   "display_name": "Python 3 (ipykernel)",
   "language": "python",
   "name": "python3"
  },
  "language_info": {
   "codemirror_mode": {
    "name": "ipython",
    "version": 3
   },
   "file_extension": ".py",
   "mimetype": "text/x-python",
   "name": "python",
   "nbconvert_exporter": "python",
   "pygments_lexer": "ipython3",
   "version": "3.12.4"
  }
 },
 "nbformat": 4,
 "nbformat_minor": 5
}
